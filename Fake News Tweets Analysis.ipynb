{
 "cells": [
  {
   "cell_type": "code",
   "execution_count": 14,
   "metadata": {},
   "outputs": [],
   "source": [
    "import networkx as nx\n",
    "from networkx.algorithms.community import greedy_modularity_communities\n",
    "\n",
    "import sklearn \n",
    "import pandas as pd\n",
    "import numpy as np \n",
    "import matplotlib.pyplot as plt\n",
    "import seaborn\n",
    "import scipy \n",
    "import nltk \n",
    "import string\n",
    "\n",
    "import pickle \n",
    "\n",
    "import spacy\n",
    "\n",
    "\n",
    "nlp = spacy.load(\"en_core_web_sm\")\n",
    "\n",
    "%matplotlib inline"
   ]
  },
  {
   "cell_type": "code",
   "execution_count": null,
   "metadata": {},
   "outputs": [],
   "source": []
  },
  {
   "cell_type": "code",
   "execution_count": 9,
   "metadata": {},
   "outputs": [
    {
     "data": {
      "text/html": [
       "<div>\n",
       "<style scoped>\n",
       "    .dataframe tbody tr th:only-of-type {\n",
       "        vertical-align: middle;\n",
       "    }\n",
       "\n",
       "    .dataframe tbody tr th {\n",
       "        vertical-align: top;\n",
       "    }\n",
       "\n",
       "    .dataframe thead th {\n",
       "        text-align: right;\n",
       "    }\n",
       "</style>\n",
       "<table border=\"1\" class=\"dataframe\">\n",
       "  <thead>\n",
       "    <tr style=\"text-align: right;\">\n",
       "      <th></th>\n",
       "      <th>is_fake_news</th>\n",
       "      <th>fake_news_category</th>\n",
       "      <th>tweet_id</th>\n",
       "      <th>created_at</th>\n",
       "      <th>retweet_count</th>\n",
       "      <th>text</th>\n",
       "      <th>user_screen_name</th>\n",
       "      <th>user_verified</th>\n",
       "      <th>user_friends_count</th>\n",
       "      <th>user_followers_count</th>\n",
       "      <th>user_favourites_count</th>\n",
       "      <th>tweet_source</th>\n",
       "      <th>geo_coordinates</th>\n",
       "      <th>num_hashtags</th>\n",
       "      <th>num_mentions</th>\n",
       "      <th>num_urls</th>\n",
       "      <th>num_media</th>\n",
       "    </tr>\n",
       "  </thead>\n",
       "  <tbody>\n",
       "    <tr>\n",
       "      <td>0</td>\n",
       "      <td>False</td>\n",
       "      <td>NaN</td>\n",
       "      <td>264033382076407808</td>\n",
       "      <td>Thu Nov 01 15:57:18 +0000 2012</td>\n",
       "      <td>4698</td>\n",
       "      <td>@realDonaldTrump you are full of shit!</td>\n",
       "      <td>RalphGilles</td>\n",
       "      <td>True</td>\n",
       "      <td>763</td>\n",
       "      <td>26680</td>\n",
       "      <td>3079</td>\n",
       "      <td>&lt;a href=\"http://twitter.com/download/iphone\" r...</td>\n",
       "      <td>0</td>\n",
       "      <td>0</td>\n",
       "      <td>2</td>\n",
       "      <td>0</td>\n",
       "      <td>0</td>\n",
       "    </tr>\n",
       "    <tr>\n",
       "      <td>1</td>\n",
       "      <td>False</td>\n",
       "      <td>NaN</td>\n",
       "      <td>265895586660757505</td>\n",
       "      <td>Tue Nov 06 19:17:02 +0000 2012</td>\n",
       "      <td>9646</td>\n",
       "      <td>@realDonaldTrump you're fucking retarded</td>\n",
       "      <td>TimmyWait</td>\n",
       "      <td>False</td>\n",
       "      <td>839</td>\n",
       "      <td>397</td>\n",
       "      <td>504</td>\n",
       "      <td>&lt;a href=\"http://twitter.com\" rel=\"nofollow\"&gt;Tw...</td>\n",
       "      <td>0</td>\n",
       "      <td>0</td>\n",
       "      <td>2</td>\n",
       "      <td>0</td>\n",
       "      <td>0</td>\n",
       "    </tr>\n",
       "    <tr>\n",
       "      <td>2</td>\n",
       "      <td>False</td>\n",
       "      <td>NaN</td>\n",
       "      <td>265895723445411841</td>\n",
       "      <td>Tue Nov 06 19:17:35 +0000 2012</td>\n",
       "      <td>1823</td>\n",
       "      <td>@realDonaldTrump You are the stupidest man on ...</td>\n",
       "      <td>mattcale52</td>\n",
       "      <td>False</td>\n",
       "      <td>1184</td>\n",
       "      <td>1353</td>\n",
       "      <td>3355</td>\n",
       "      <td>&lt;a href=\"http://twitter.com/download/iphone\" r...</td>\n",
       "      <td>0</td>\n",
       "      <td>0</td>\n",
       "      <td>2</td>\n",
       "      <td>0</td>\n",
       "      <td>0</td>\n",
       "    </tr>\n",
       "    <tr>\n",
       "      <td>3</td>\n",
       "      <td>False</td>\n",
       "      <td>NaN</td>\n",
       "      <td>265896172726661120</td>\n",
       "      <td>Tue Nov 06 19:19:22 +0000 2012</td>\n",
       "      <td>1168</td>\n",
       "      <td>@realDonaldTrump I am continually amazed and t...</td>\n",
       "      <td>MichaelWHill</td>\n",
       "      <td>False</td>\n",
       "      <td>1603</td>\n",
       "      <td>704</td>\n",
       "      <td>1479</td>\n",
       "      <td>&lt;a href=\"http://twitter.com/download/iphone\" r...</td>\n",
       "      <td>0</td>\n",
       "      <td>0</td>\n",
       "      <td>2</td>\n",
       "      <td>0</td>\n",
       "      <td>0</td>\n",
       "    </tr>\n",
       "    <tr>\n",
       "      <td>4</td>\n",
       "      <td>False</td>\n",
       "      <td>NaN</td>\n",
       "      <td>266042962650226688</td>\n",
       "      <td>Wed Nov 07 05:02:39 +0000 2012</td>\n",
       "      <td>1979</td>\n",
       "      <td>Hey @realDonaldTrump You Mad Bro?</td>\n",
       "      <td>ThePresObama</td>\n",
       "      <td>False</td>\n",
       "      <td>135</td>\n",
       "      <td>70218</td>\n",
       "      <td>931</td>\n",
       "      <td>&lt;a href=\"http://twitter.com\" rel=\"nofollow\"&gt;Tw...</td>\n",
       "      <td>0</td>\n",
       "      <td>0</td>\n",
       "      <td>2</td>\n",
       "      <td>0</td>\n",
       "      <td>0</td>\n",
       "    </tr>\n",
       "  </tbody>\n",
       "</table>\n",
       "</div>"
      ],
      "text/plain": [
       "   is_fake_news  fake_news_category            tweet_id  \\\n",
       "0         False                 NaN  264033382076407808   \n",
       "1         False                 NaN  265895586660757505   \n",
       "2         False                 NaN  265895723445411841   \n",
       "3         False                 NaN  265896172726661120   \n",
       "4         False                 NaN  266042962650226688   \n",
       "\n",
       "                       created_at  retweet_count  \\\n",
       "0  Thu Nov 01 15:57:18 +0000 2012           4698   \n",
       "1  Tue Nov 06 19:17:02 +0000 2012           9646   \n",
       "2  Tue Nov 06 19:17:35 +0000 2012           1823   \n",
       "3  Tue Nov 06 19:19:22 +0000 2012           1168   \n",
       "4  Wed Nov 07 05:02:39 +0000 2012           1979   \n",
       "\n",
       "                                                text user_screen_name  \\\n",
       "0             @realDonaldTrump you are full of shit!      RalphGilles   \n",
       "1           @realDonaldTrump you're fucking retarded        TimmyWait   \n",
       "2  @realDonaldTrump You are the stupidest man on ...       mattcale52   \n",
       "3  @realDonaldTrump I am continually amazed and t...     MichaelWHill   \n",
       "4                  Hey @realDonaldTrump You Mad Bro?     ThePresObama   \n",
       "\n",
       "   user_verified  user_friends_count  user_followers_count  \\\n",
       "0           True                 763                 26680   \n",
       "1          False                 839                   397   \n",
       "2          False                1184                  1353   \n",
       "3          False                1603                   704   \n",
       "4          False                 135                 70218   \n",
       "\n",
       "   user_favourites_count                                       tweet_source  \\\n",
       "0                   3079  <a href=\"http://twitter.com/download/iphone\" r...   \n",
       "1                    504  <a href=\"http://twitter.com\" rel=\"nofollow\">Tw...   \n",
       "2                   3355  <a href=\"http://twitter.com/download/iphone\" r...   \n",
       "3                   1479  <a href=\"http://twitter.com/download/iphone\" r...   \n",
       "4                    931  <a href=\"http://twitter.com\" rel=\"nofollow\">Tw...   \n",
       "\n",
       "   geo_coordinates  num_hashtags  num_mentions  num_urls  num_media  \n",
       "0                0             0             2         0          0  \n",
       "1                0             0             2         0          0  \n",
       "2                0             0             2         0          0  \n",
       "3                0             0             2         0          0  \n",
       "4                0             0             2         0          0  "
      ]
     },
     "execution_count": 9,
     "metadata": {},
     "output_type": "execute_result"
    }
   ],
   "source": [
    "# read in and inspect\n",
    "election_tweets = pd.read_excel(\"./electionday_tweets.xlsx\")\n",
    "\n",
    "election_tweets.head()"
   ]
  },
  {
   "cell_type": "markdown",
   "metadata": {},
   "source": [
    "## Text processing"
   ]
  },
  {
   "cell_type": "code",
   "execution_count": 20,
   "metadata": {},
   "outputs": [],
   "source": [
    "\n",
    "def word_tokenize(word_list, model=nlp, MAX_LEN=1500000):\n",
    "    '''\n",
    "    Citation: \n",
    "                Bhargav Desikan & James Evans, \n",
    "                MACS 40500,\n",
    "                Computational Content Analysis\n",
    "                Tokenizer, Lucem Illud 2020 package\n",
    "    '''\n",
    "    tokenized = []\n",
    "    if type(word_list) == list and len(word_list) == 1:\n",
    "        word_list = word_list[0]\n",
    "\n",
    "    if type(word_list) == list:\n",
    "        word_list = ' '.join([str(elem) for elem in word_list]) \n",
    "    # since we're only tokenizing, I remove RAM intensive operations and increase max text size\n",
    "\n",
    "    model.max_length = MAX_LEN\n",
    "    doc = model(word_list, disable=[\"parser\", \"tagger\", \"ner\"])\n",
    "    \n",
    "    for token in doc:\n",
    "        if not token.is_punct and len(token.text.strip()) > 0:\n",
    "            tokenized.append(token.text)\n",
    "    return tokenized\n"
   ]
  },
  {
   "cell_type": "code",
   "execution_count": null,
   "metadata": {},
   "outputs": [],
   "source": []
  },
  {
   "cell_type": "code",
   "execution_count": 28,
   "metadata": {},
   "outputs": [],
   "source": [
    "# tokenize text\n",
    "election_tweets['tokenized_text'] = election_tweets['tokenized_text_2'] = [word_tokenize(text) for text in election_tweets['text']]"
   ]
  },
  {
   "cell_type": "code",
   "execution_count": 32,
   "metadata": {},
   "outputs": [
    {
     "data": {
      "text/plain": [
       "['@realdonaldtrump', 'you', \"'re\", 'fucking', 'retarded']"
      ]
     },
     "execution_count": 32,
     "metadata": {},
     "output_type": "execute_result"
    }
   ],
   "source": [
    "# list of tokens\n",
    "tokens_list = election_tweets['tokenized_text']\n",
    "\n",
    "#got to inspect to make sure it looks okay\n",
    "tokens_list[1][:]"
   ]
  },
  {
   "cell_type": "code",
   "execution_count": 33,
   "metadata": {},
   "outputs": [],
   "source": [
    "for i in range(len(tokens_list)):\n",
    "    for j in range(len(tokens_list[i])):\n",
    "        tokens_list[i][j]=tokens_list[i][j].lower()"
   ]
  },
  {
   "cell_type": "code",
   "execution_count": 34,
   "metadata": {},
   "outputs": [],
   "source": [
    "\n",
    "mentions = {}\n",
    "\n",
    "for tokens in tokens_list: #index into each word\n",
    "    for word in tokens:\n",
    "        if \"@\" in word: \n",
    "            word = '@'+word.translate(str.maketrans('', '', string.punctuation))\n",
    "            if word not in mentions:\n",
    "                mentions[word] = 0\n",
    "            if word in mentions:\n",
    "                mentions[word] += 1"
   ]
  },
  {
   "cell_type": "code",
   "execution_count": 35,
   "metadata": {},
   "outputs": [
    {
     "data": {
      "text/plain": [
       "222"
      ]
     },
     "execution_count": 35,
     "metadata": {},
     "output_type": "execute_result"
    }
   ],
   "source": [
    "len(mentions)"
   ]
  },
  {
   "cell_type": "code",
   "execution_count": 39,
   "metadata": {},
   "outputs": [
    {
     "data": {
      "text/plain": [
       "4"
      ]
     },
     "execution_count": 39,
     "metadata": {},
     "output_type": "execute_result"
    }
   ],
   "source": [
    "mentions[\"@barackobama\"]"
   ]
  },
  {
   "cell_type": "code",
   "execution_count": 40,
   "metadata": {},
   "outputs": [],
   "source": [
    "# call mentions network\n",
    "mentions_network = nx.Graph()"
   ]
  },
  {
   "cell_type": "code",
   "execution_count": 41,
   "metadata": {},
   "outputs": [],
   "source": [
    "# now we filter\n",
    "for mention in mentions:\n",
    "    if mentions[mention] > 2:\n",
    "        mentions_network.add_node(mention, times_mentioned= mentions[mention], words=[])"
   ]
  },
  {
   "cell_type": "code",
   "execution_count": 42,
   "metadata": {},
   "outputs": [
    {
     "data": {
      "text/plain": [
       "30"
      ]
     },
     "execution_count": 42,
     "metadata": {},
     "output_type": "execute_result"
    }
   ],
   "source": [
    "len(mentions_network.nodes.data())"
   ]
  },
  {
   "cell_type": "code",
   "execution_count": 45,
   "metadata": {},
   "outputs": [],
   "source": [
    "# building the network\n",
    "all_texts = []\n",
    "\n",
    "for tweet in tokens_list:\n",
    "            \n",
    "    for word in tweet: #index into each word\n",
    "        if \"@\" in word:\n",
    "\n",
    "            if word in mentions_network.nodes():\n",
    "                for word_ in tweet:\n",
    "                    if \"@\" in word_:\n",
    "                        #print(token)\n",
    "                        if word_ != word and word_ in mentions_network.nodes():\n",
    "\n",
    "                            if (word, word_) not in mentions_network.edges():\n",
    "                                mentions_network.add_edge(word, word_, weight = 0)\n",
    "                            if (word, word_) in mentions_network.edges():\n",
    "                                mentions_network.edges[(word, word_)]['weight'] += 1\n",
    "                            mentions_network.nodes[word]['words'].append(tweet)\n",
    "                            mentions_network.nodes[word_]['words'].append(tweet)\n",
    "                            \n",
    "                        break"
   ]
  },
  {
   "cell_type": "code",
   "execution_count": 46,
   "metadata": {},
   "outputs": [
    {
     "name": "stderr",
     "output_type": "stream",
     "text": [
      "/Users/reginacatipon/anaconda3/lib/python3.7/site-packages/networkx/drawing/nx_pylab.py:579: MatplotlibDeprecationWarning: \n",
      "The iterable function was deprecated in Matplotlib 3.1 and will be removed in 3.3. Use np.iterable instead.\n",
      "  if not cb.iterable(width):\n"
     ]
    },
    {
     "data": {
      "text/plain": [
       "<Figure size 432x288 with 0 Axes>"
      ]
     },
     "metadata": {},
     "output_type": "display_data"
    },
    {
     "data": {
      "image/png": "[encoded data removed]",
      "text/plain": [
       "<Figure size 936x936 with 1 Axes>"
      ]
     },
     "metadata": {},
     "output_type": "display_data"
    }
   ],
   "source": [
    "# smaller nodes and fonts\n",
    "plt.figure(2)\n",
    "# larger figure size\n",
    "plt.figure(3,figsize=(13,13)) \n",
    "nx.draw(mentions_network, with_labels=True)\n",
    "plt.show()"
   ]
  },
  {
   "cell_type": "code",
   "execution_count": 47,
   "metadata": {},
   "outputs": [
    {
     "data": {
      "text/plain": [
       "[frozenset({'@barackobama',\n",
       "            '@danscavino',\n",
       "            '@diamondandsilk',\n",
       "            '@donaldjtrumpjr',\n",
       "            '@erictrump',\n",
       "            '@genflynn',\n",
       "            '@gop',\n",
       "            '@ivankatrump',\n",
       "            '@jaredwyand',\n",
       "            '@laraleatrump',\n",
       "            '@melaniatrump',\n",
       "            '@realdonaldtrump',\n",
       "            '@seanhannity',\n",
       "            '@tgowdysc'}),\n",
       " frozenset({'@abc',\n",
       "            '@aliciakeys',\n",
       "            '@bonjovi',\n",
       "            '@c5n',\n",
       "            '@cnn',\n",
       "            '@donnabrazile',\n",
       "            '@fbi',\n",
       "            '@hillaryclinton',\n",
       "            '@machadooficial',\n",
       "            '@madonna',\n",
       "            '@potus',\n",
       "            '@timkaine',\n",
       "            '@vigilanteartist',\n",
       "            '@wikileaks'}),\n",
       " frozenset({'@teamtrump'}),\n",
       " frozenset({'@mikepence'})]"
      ]
     },
     "execution_count": 47,
     "metadata": {},
     "output_type": "execute_result"
    }
   ],
   "source": [
    "# from networkx.algorithms.community import greedy_modularity_communities\n",
    "c = list(greedy_modularity_communities(mentions_network))\n",
    "c"
   ]
  },
  {
   "cell_type": "code",
   "execution_count": 48,
   "metadata": {},
   "outputs": [
    {
     "data": {
      "text/plain": [
       "(0.27586206896551724, 0.06896551724137931)"
      ]
     },
     "execution_count": 48,
     "metadata": {},
     "output_type": "execute_result"
    }
   ],
   "source": [
    "dcentralities = nx.degree_centrality(mentions_network)\n",
    "dcentralities['@potus'], dcentralities['@ivankatrump']"
   ]
  },
  {
   "cell_type": "code",
   "execution_count": null,
   "metadata": {},
   "outputs": [],
   "source": []
  }
 ],
 "metadata": {
  "kernelspec": {
   "display_name": "Python 3",
   "language": "python",
   "name": "python3"
  }
 },
 "nbformat": 4,
 "nbformat_minor": 2
}
